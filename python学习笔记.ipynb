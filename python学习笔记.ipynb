{
 "cells": [
  {
   "cell_type": "markdown",
   "metadata": {},
   "source": [
    "# 变量的定义\n",
    "- 大小写、数字、下划线\n",
    "- 驼峰命名法\n",
    "- 无需声明，直接赋值\n",
    "- 存储器"
   ]
  },
  {
   "cell_type": "code",
   "execution_count": 2,
   "metadata": {},
   "outputs": [
    {
     "name": "stdout",
     "output_type": "stream",
     "text": [
      "be independent\n"
     ]
    }
   ],
   "source": [
    "print(\"be independent\")"
   ]
  },
  {
   "cell_type": "code",
   "execution_count": 9,
   "metadata": {},
   "outputs": [
    {
     "name": "stdout",
     "output_type": "stream",
     "text": [
      "归属感 晶晶加油 晶晶加油 开心 舒心\n"
     ]
    }
   ],
   "source": [
    "# 声明变量\n",
    "s = \"归属感\"\n",
    "s1 = s2 = \"晶晶加油\"\n",
    "s3, s4 = \"开心\", \"舒心\"\n",
    "print(s, s1, s2, s3, s4)"
   ]
  },
  {
   "cell_type": "markdown",
   "metadata": {},
   "source": [
    "# 变量类型\n",
    "- 标准数据类型\n",
    "  - 数字 number\n",
    "  - 布尔值\n",
    "    - 用来表示真假\n",
    "    - True/False\n",
    "    - 在python中可以当数字使用\n",
    "      - 规则：True = 1; False = 0\n",
    "      - 如果数字做布尔值使用，0 = False；其余是True\n",
    "  - 字符串 str\n",
    "  - None类型\n",
    "    - 表示没有，通常用来占位\n",
    "    - 比如函数返回None\n",
    "  - 列表 list\n",
    "  - 元组 tuple\n",
    "  - 字典 dict\n",
    "  - 集合 set"
   ]
  },
  {
   "cell_type": "markdown",
   "metadata": {},
   "source": [
    "## 数据类型 number\n",
    "- 数字大小限制 存储位数有限\n",
    "- python数字没有大小限制\n",
    "\n",
    "### 常见数据分类\n",
    "- 整数\n",
    "  - 二进制、八进制、十进制\n",
    "  - 二进制\n",
    "    - 只有01代码\n",
    "    - 表示：以0b开头的01串\n",
    "      - 0b110（8421，4+2=6）\n",
    "      - 0b11110（30）\n",
    "  - 八进制\n",
    "    - 以0o开头的0到7之间的数字串\n",
    "      - 0o71\n",
    "  - 十六进制\n",
    "    - 以0x组成的，由0-9、a-f构成的串\n",
    "- 浮点数\n",
    "  - 小数\n",
    "  - 表示方法\n",
    "    - 3.1415926\n",
    "    - 3.\n",
    "    - .4\n",
    "    - 科学计数法\n",
    "      - e+整数（用来表示10的指数）\n",
    "- 复数 complex\n",
    "  - 虚部用j/J表示\n",
    "  - 5+4j\n",
    "  - （4j）"
   ]
  },
  {
   "cell_type": "code",
   "execution_count": 8,
   "metadata": {},
   "outputs": [
    {
     "name": "stdout",
     "output_type": "stream",
     "text": [
      "6 30\n",
      "57\n",
      "65535 21490\n"
     ]
    }
   ],
   "source": [
    "# 整数\n",
    "# 二进制的定义\n",
    "a1, a2 = 0b110, 0b11110\n",
    "print(a1, a2)\n",
    "\n",
    "# 八进制的定义\n",
    "a3 = 0o71\n",
    "print(a3)\n",
    "\n",
    "# 十六进制的定义\n",
    "a4, a5 = 0xffff, 0x53f2\n",
    "print(a4, a5)"
   ]
  },
  {
   "cell_type": "code",
   "execution_count": 11,
   "metadata": {},
   "outputs": [
    {
     "name": "stdout",
     "output_type": "stream",
     "text": [
      "163\n",
      "163.0\n",
      "0.2\n"
     ]
    }
   ],
   "source": [
    "# 浮点数\n",
    "high = 163\n",
    "print(high)\n",
    "\n",
    "high = 1.63e2\n",
    "print(high)\n",
    "\n",
    "b = .2\n",
    "print(b)"
   ]
  },
  {
   "cell_type": "code",
   "execution_count": 12,
   "metadata": {},
   "outputs": [
    {
     "name": "stdout",
     "output_type": "stream",
     "text": [
      "4j\n"
     ]
    }
   ],
   "source": [
    "# 复数\n",
    "a = (4j)\n",
    "print(a)"
   ]
  },
  {
   "cell_type": "code",
   "execution_count": 16,
   "metadata": {},
   "outputs": [
    {
     "name": "stdout",
     "output_type": "stream",
     "text": [
      "19\n",
      "18\n",
      "负数是True\n"
     ]
    }
   ],
   "source": [
    "# 布尔值\n",
    "# 布尔值当作数字\n",
    "age = 18 + True\n",
    "print(age)\n",
    "\n",
    "age = 18 + False\n",
    "print(age)\n",
    "\n",
    "# 判断语句\n",
    "a = -1\n",
    "if a: # 判断语句后面接布尔表达式，此处a是布尔表达式，判断a真假\n",
    "    print(\"负数是True\")\n",
    "else:\n",
    "    print(\"负数是False\")"
   ]
  },
  {
   "cell_type": "markdown",
   "metadata": {},
   "source": [
    "## 字符串 str\n",
    "- 表达文字信息的内容，不能用数字表达\n",
    "- 形式上是引号引起来的一段内容\n",
    "- 引号包括\n",
    "  - 单引号' '\n",
    "  - 双引号\" \"\n",
    "  - 三引号''' '''\n",
    "- 单双引号含义一致，三引号表示多行信息，单双引号只能表示一行信息，以前引号开始，以后引号结束"
   ]
  },
  {
   "cell_type": "code",
   "execution_count": 21,
   "metadata": {},
   "outputs": [
    {
     "name": "stdout",
     "output_type": "stream",
     "text": [
      "happy\n",
      "happiness\n",
      "\n",
      "现在\n",
      "就是新生\n",
      "\n"
     ]
    }
   ],
   "source": [
    "# 字符串\n",
    "love = \"happy\"\n",
    "print(love)\n",
    "\n",
    "love2 = 'happiness'\n",
    "print(love2)\n",
    "\n",
    "love3 = '''\n",
    "现在\n",
    "就是新生\n",
    "'''\n",
    "print(love3)"
   ]
  },
  {
   "cell_type": "markdown",
   "metadata": {},
   "source": [
    "# 表达式\n",
    "- 由一个或几个数字或者变量或者运算符合成的一行代码\n",
    "- 通常返回一个结果\n",
    "- 定义、界限、由来、解决\n",
    "\n",
    "## 运算符\n",
    "- 操作运算的符号\n",
    "- 运算符的分类\n",
    "  - 算数\n",
    "    - 用来表示加减乘除\n",
    "    - python没有自增自减\n",
    "  - 比较\n",
    "    - 小于、等于\n",
    "  - 赋值\n",
    "  - 逻辑运算符\n",
    "  - 位运算\n",
    "  - 成员运算符\n",
    "  - 身份运算符"
   ]
  },
  {
   "cell_type": "code",
   "execution_count": 22,
   "metadata": {},
   "outputs": [
    {
     "data": {
      "text/plain": [
       "3"
      ]
     },
     "execution_count": 22,
     "metadata": {},
     "output_type": "execute_result"
    }
   ],
   "source": [
    "# 表达式\n",
    "1 + 2\n",
    "a = 1 + 2 "
   ]
  },
  {
   "cell_type": "code",
   "execution_count": 30,
   "metadata": {},
   "outputs": [
    {
     "name": "stdout",
     "output_type": "stream",
     "text": [
      "7\n",
      "11\n",
      "16\n",
      "4.5\n",
      "4\n",
      "1\n",
      "-2.25\n",
      "-3\n"
     ]
    }
   ],
   "source": [
    "# 算数运算符\n",
    "a = 9 - 2\n",
    "print(a)\n",
    "\n",
    "b = 9 + 2\n",
    "print(b)\n",
    "\n",
    "c = 8 * 2\n",
    "print(c)\n",
    "\n",
    "# 除法：\n",
    "# 普通除法\n",
    "d = 9 / 2\n",
    "print(d)\n",
    "\n",
    "# 地板除/取整\n",
    "e = 9 // 2\n",
    "print(e)\n",
    "\n",
    "# 取余\n",
    "f = 9 % 2\n",
    "print(f)\n",
    "\n",
    "# 除以负数\n",
    "g = 9 / (-4)\n",
    "print(g)\n",
    "\n",
    "g = 9 % (-4) # 取余，一个数减去一个数正好被整除\n",
    "print(g)"
   ]
  },
  {
   "cell_type": "code",
   "execution_count": null,
   "metadata": {},
   "outputs": [],
   "source": [
    "# 比较运算符"
   ]
  }
 ],
 "metadata": {
  "kernelspec": {
   "display_name": "Python 3",
   "language": "python",
   "name": "python3"
  },
  "language_info": {
   "codemirror_mode": {
    "name": "ipython",
    "version": 3
   },
   "file_extension": ".py",
   "mimetype": "text/x-python",
   "name": "python",
   "nbconvert_exporter": "python",
   "pygments_lexer": "ipython3",
   "version": "3.8.5"
  }
 },
 "nbformat": 4,
 "nbformat_minor": 4
}
